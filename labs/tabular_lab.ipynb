{
 "cells": [
  {
   "cell_type": "markdown",
   "metadata": {},
   "source": [
    "DLMI Data challenge\n",
    "=================\n",
    "\n",
    "\n",
    "\n",
    "Define imports"
   ]
  },
  {
   "cell_type": "code",
   "execution_count": 2,
   "metadata": {},
   "outputs": [],
   "source": [
    "import datetime\n",
    "\n",
    "import pandas as pd\n",
    "from sklearn.model_selection import train_test_split\n",
    "from sklearn.preprocessing import OneHotEncoder, FunctionTransformer\n",
    "from sklearn.compose import ColumnTransformer\n",
    "from sklearn.pipeline import Pipeline\n",
    "from sklearn.metrics import balanced_accuracy_score\n",
    "from xgboost import XGBClassifier"
   ]
  },
  {
   "cell_type": "markdown",
   "metadata": {},
   "source": [
    "## Parameters"
   ]
  },
  {
   "cell_type": "code",
   "execution_count": 2,
   "metadata": {},
   "outputs": [],
   "source": [
    "LR = 0.1"
   ]
  },
  {
   "cell_type": "markdown",
   "metadata": {},
   "source": [
    "## Data preparation"
   ]
  },
  {
   "cell_type": "code",
   "execution_count": 3,
   "metadata": {},
   "outputs": [],
   "source": [
    "OH_enc = OneHotEncoder(handle_unknown='ignore')\n",
    "\n",
    "def DOB_parser(dob):\n",
    "    try:\n",
    "        dtob = datetime.datetime.strptime(dob, '%m/%d/%Y')\n",
    "    except ValueError:\n",
    "        dtob = datetime.datetime.strptime(dob, '%d-%m-%Y')\n",
    "    return (datetime.date(2020, 5, 1) - dtob.date()).days\n",
    "\n",
    "def df_dob_parser(df):\n",
    "    return df.applymap(DOB_parser)\n",
    "\n",
    "def df_to_upper(df):\n",
    "    return df.applymap(str.upper)\n",
    "\n",
    "dob_transformer = FunctionTransformer(func=df_dob_parser, validate=False)\n",
    "upper_transformer = FunctionTransformer(func=df_to_upper, validate=False)\n",
    "\n",
    "gender_prep = Pipeline(steps=[('uppercase', upper_transformer),\n",
    "                              ('one hot encoder', OH_enc)])\n",
    "\n",
    "prep = ColumnTransformer(transformers=[('age', dob_transformer, ['DOB']),\n",
    "                                       ('gender', gender_prep, ['GENDER']),\n",
    "                                       ('float', 'passthrough', ['LYMPH_COUNT'])])"
   ]
  },
  {
   "cell_type": "markdown",
   "metadata": {},
   "source": [
    "## Model"
   ]
  },
  {
   "cell_type": "code",
   "execution_count": 4,
   "metadata": {},
   "outputs": [],
   "source": [
    "model = XGBClassifier(n_estimators=10000, learning_rate=LR, random_state=0)"
   ]
  },
  {
   "cell_type": "markdown",
   "metadata": {},
   "source": [
    "## Import data"
   ]
  },
  {
   "cell_type": "code",
   "execution_count": 3,
   "metadata": {
    "scrolled": false
   },
   "outputs": [
    {
     "name": "stdout",
     "output_type": "stream",
     "text": [
      "      LABEL GENDER        DOB  LYMPH_COUNT\n",
      "ID                                        \n",
      "P26       1      M  11/3/1933         11.2\n",
      "P183      1      M  5/15/1942         12.8\n",
      "P89       1      M  6/19/1935          9.6\n",
      "P123      1      M  1/27/1931        122.6\n",
      "P61       1      F   3/5/1931         11.6\n"
     ]
    }
   ],
   "source": [
    "dataset = pd.read_csv(\"data/clinical_annotation.csv\", index_col=0)\n",
    "print(dataset.head())\n",
    "# print(dataset.isna().any())"
   ]
  },
  {
   "cell_type": "code",
   "execution_count": 6,
   "metadata": {},
   "outputs": [
    {
     "data": {
      "text/plain": [
       "array(['M', 'F', 'f'], dtype=object)"
      ]
     },
     "execution_count": 6,
     "metadata": {},
     "output_type": "execute_result"
    }
   ],
   "source": [
    "dataset.GENDER.unique()"
   ]
  },
  {
   "cell_type": "code",
   "execution_count": 7,
   "metadata": {},
   "outputs": [],
   "source": [
    "# Separate test data\n",
    "dataset_test = dataset[dataset.LABEL == -1]\n",
    "dataset_tv = dataset[dataset.LABEL != -1]\n",
    "\n",
    "# Define variables and target\n",
    "ID_test = dataset_test.ID\n",
    "y_test = dataset_test.LABEL\n",
    "X_test = prep.fit_transform(dataset_test.drop(columns=['LABEL', 'ID']))\n",
    "y_tv = dataset_tv.LABEL\n",
    "X_tv = prep.fit_transform(dataset_tv.drop(columns=['LABEL', 'ID']))\n",
    "\n",
    "#Split train and val sets\n",
    "X_train, X_valid, y_train, y_valid = train_test_split(X_tv, y_tv, train_size=0.8, test_size=0.2, random_state=0)"
   ]
  },
  {
   "cell_type": "markdown",
   "metadata": {},
   "source": [
    "## Train"
   ]
  },
  {
   "cell_type": "code",
   "execution_count": 8,
   "metadata": {},
   "outputs": [
    {
     "name": "stdout",
     "output_type": "stream",
     "text": [
      "[14:48:07] WARNING: ../src/learner.cc:1061: Starting in XGBoost 1.3.0, the default evaluation metric used with the objective 'binary:logistic' was changed from 'error' to 'logloss'. Explicitly set eval_metric if you'd like to restore the old behavior.\n",
      "[0]\tvalidation_0-logloss:0.62382\n",
      "[1]\tvalidation_0-logloss:0.56477\n",
      "[2]\tvalidation_0-logloss:0.51532\n",
      "[3]\tvalidation_0-logloss:0.47156\n",
      "[4]\tvalidation_0-logloss:0.43580\n",
      "[5]\tvalidation_0-logloss:0.40518\n",
      "[6]\tvalidation_0-logloss:0.37614\n",
      "[7]\tvalidation_0-logloss:0.35235\n",
      "[8]\tvalidation_0-logloss:0.32928\n",
      "[9]\tvalidation_0-logloss:0.31116\n",
      "[10]\tvalidation_0-logloss:0.29369\n",
      "[11]\tvalidation_0-logloss:0.27728\n",
      "[12]\tvalidation_0-logloss:0.26285\n"
     ]
    },
    {
     "name": "stderr",
     "output_type": "stream",
     "text": [
      "/home/timothee/miniconda3/envs/MASH/lib/python3.8/site-packages/xgboost/sklearn.py:888: UserWarning: The use of label encoder in XGBClassifier is deprecated and will be removed in a future release. To remove this warning, do the following: 1) Pass option use_label_encoder=False when constructing XGBClassifier object; and 2) Encode your labels (y) as integers starting with 0, i.e. 0, 1, 2, ..., [num_class - 1].\n",
      "  warnings.warn(label_encoder_deprecation_msg, UserWarning)\n"
     ]
    },
    {
     "name": "stdout",
     "output_type": "stream",
     "text": [
      "[13]\tvalidation_0-logloss:0.25102\n",
      "[14]\tvalidation_0-logloss:0.24134\n",
      "[15]\tvalidation_0-logloss:0.23231\n",
      "[16]\tvalidation_0-logloss:0.22162\n",
      "[17]\tvalidation_0-logloss:0.21281\n",
      "[18]\tvalidation_0-logloss:0.20641\n",
      "[19]\tvalidation_0-logloss:0.20129\n",
      "[20]\tvalidation_0-logloss:0.19612\n",
      "[21]\tvalidation_0-logloss:0.19207\n",
      "[22]\tvalidation_0-logloss:0.18618\n",
      "[23]\tvalidation_0-logloss:0.18083\n",
      "[24]\tvalidation_0-logloss:0.17812\n",
      "[25]\tvalidation_0-logloss:0.17317\n",
      "[26]\tvalidation_0-logloss:0.17093\n",
      "[27]\tvalidation_0-logloss:0.16678\n",
      "[28]\tvalidation_0-logloss:0.16387\n",
      "[29]\tvalidation_0-logloss:0.16197\n",
      "[30]\tvalidation_0-logloss:0.15957\n",
      "[31]\tvalidation_0-logloss:0.15824\n",
      "[32]\tvalidation_0-logloss:0.15414\n",
      "[33]\tvalidation_0-logloss:0.15107\n",
      "[34]\tvalidation_0-logloss:0.14871\n",
      "[35]\tvalidation_0-logloss:0.14698\n",
      "[36]\tvalidation_0-logloss:0.14336\n",
      "[37]\tvalidation_0-logloss:0.14095\n",
      "[38]\tvalidation_0-logloss:0.13860\n",
      "[39]\tvalidation_0-logloss:0.13728\n",
      "[40]\tvalidation_0-logloss:0.13547\n",
      "[41]\tvalidation_0-logloss:0.13256\n",
      "[42]\tvalidation_0-logloss:0.13151\n",
      "[43]\tvalidation_0-logloss:0.13058\n",
      "[44]\tvalidation_0-logloss:0.12903\n",
      "[45]\tvalidation_0-logloss:0.12729\n",
      "[46]\tvalidation_0-logloss:0.12615\n",
      "[47]\tvalidation_0-logloss:0.12450\n",
      "[48]\tvalidation_0-logloss:0.12223\n",
      "[49]\tvalidation_0-logloss:0.12293\n",
      "[50]\tvalidation_0-logloss:0.12053\n",
      "[51]\tvalidation_0-logloss:0.11921\n",
      "[52]\tvalidation_0-logloss:0.11782\n",
      "[53]\tvalidation_0-logloss:0.11850\n",
      "[54]\tvalidation_0-logloss:0.11726\n",
      "[55]\tvalidation_0-logloss:0.11715\n",
      "[56]\tvalidation_0-logloss:0.11716\n",
      "[57]\tvalidation_0-logloss:0.11577\n",
      "[58]\tvalidation_0-logloss:0.11464\n",
      "[59]\tvalidation_0-logloss:0.11474\n",
      "[60]\tvalidation_0-logloss:0.11288\n",
      "[61]\tvalidation_0-logloss:0.11345\n",
      "[62]\tvalidation_0-logloss:0.11222\n",
      "[63]\tvalidation_0-logloss:0.11129\n",
      "[64]\tvalidation_0-logloss:0.11046\n",
      "[65]\tvalidation_0-logloss:0.10995\n",
      "[66]\tvalidation_0-logloss:0.10912\n",
      "[67]\tvalidation_0-logloss:0.10840\n",
      "[68]\tvalidation_0-logloss:0.10738\n",
      "[69]\tvalidation_0-logloss:0.10701\n",
      "[70]\tvalidation_0-logloss:0.10633\n",
      "[71]\tvalidation_0-logloss:0.10554\n",
      "[72]\tvalidation_0-logloss:0.10529\n",
      "[73]\tvalidation_0-logloss:0.10543\n",
      "[74]\tvalidation_0-logloss:0.10505\n",
      "[75]\tvalidation_0-logloss:0.10371\n",
      "[76]\tvalidation_0-logloss:0.10346\n",
      "[77]\tvalidation_0-logloss:0.10302\n",
      "[78]\tvalidation_0-logloss:0.10283\n",
      "[79]\tvalidation_0-logloss:0.10354\n",
      "[80]\tvalidation_0-logloss:0.10424\n",
      "[81]\tvalidation_0-logloss:0.10294\n",
      "[82]\tvalidation_0-logloss:0.10359\n",
      "[83]\tvalidation_0-logloss:0.10339\n",
      "[84]\tvalidation_0-logloss:0.10360\n",
      "[85]\tvalidation_0-logloss:0.10245\n",
      "[86]\tvalidation_0-logloss:0.10266\n",
      "[87]\tvalidation_0-logloss:0.10220\n",
      "[88]\tvalidation_0-logloss:0.10220\n",
      "[89]\tvalidation_0-logloss:0.10113\n",
      "[90]\tvalidation_0-logloss:0.10039\n",
      "[91]\tvalidation_0-logloss:0.10119\n",
      "[92]\tvalidation_0-logloss:0.10123\n",
      "[93]\tvalidation_0-logloss:0.10047\n",
      "[94]\tvalidation_0-logloss:0.10067\n",
      "[95]\tvalidation_0-logloss:0.09992\n",
      "[96]\tvalidation_0-logloss:0.09894\n",
      "[97]\tvalidation_0-logloss:0.09743\n",
      "[98]\tvalidation_0-logloss:0.09738\n",
      "[99]\tvalidation_0-logloss:0.09724\n",
      "[100]\tvalidation_0-logloss:0.09806\n",
      "[101]\tvalidation_0-logloss:0.09805\n",
      "[102]\tvalidation_0-logloss:0.09672\n",
      "[103]\tvalidation_0-logloss:0.09675\n",
      "[104]\tvalidation_0-logloss:0.09550\n",
      "[105]\tvalidation_0-logloss:0.09463\n",
      "[106]\tvalidation_0-logloss:0.09464\n",
      "[107]\tvalidation_0-logloss:0.09403\n",
      "[108]\tvalidation_0-logloss:0.09478\n",
      "[109]\tvalidation_0-logloss:0.09482\n",
      "[110]\tvalidation_0-logloss:0.09427\n",
      "[111]\tvalidation_0-logloss:0.09429\n",
      "[112]\tvalidation_0-logloss:0.09415\n",
      "[113]\tvalidation_0-logloss:0.09499\n",
      "[114]\tvalidation_0-logloss:0.09464\n",
      "[115]\tvalidation_0-logloss:0.09485\n",
      "[116]\tvalidation_0-logloss:0.09658\n",
      "[117]\tvalidation_0-logloss:0.09584\n",
      "[118]\tvalidation_0-logloss:0.09505\n",
      "[119]\tvalidation_0-logloss:0.09494\n",
      "[120]\tvalidation_0-logloss:0.09567\n",
      "[121]\tvalidation_0-logloss:0.09562\n",
      "[122]\tvalidation_0-logloss:0.09591\n",
      "[123]\tvalidation_0-logloss:0.09512\n",
      "[124]\tvalidation_0-logloss:0.09443\n",
      "[125]\tvalidation_0-logloss:0.09445\n",
      "[126]\tvalidation_0-logloss:0.09477\n",
      "[127]\tvalidation_0-logloss:0.09416\n",
      "[128]\tvalidation_0-logloss:0.09354\n",
      "[129]\tvalidation_0-logloss:0.09409\n",
      "[130]\tvalidation_0-logloss:0.09572\n",
      "[131]\tvalidation_0-logloss:0.09539\n",
      "[132]\tvalidation_0-logloss:0.09699\n",
      "[133]\tvalidation_0-logloss:0.09678\n",
      "[134]\tvalidation_0-logloss:0.09690\n",
      "[135]\tvalidation_0-logloss:0.09662\n",
      "[136]\tvalidation_0-logloss:0.09698\n",
      "[137]\tvalidation_0-logloss:0.09699\n",
      "[138]\tvalidation_0-logloss:0.09707\n",
      "[139]\tvalidation_0-logloss:0.09702\n",
      "[140]\tvalidation_0-logloss:0.09704\n",
      "[141]\tvalidation_0-logloss:0.09733\n",
      "[142]\tvalidation_0-logloss:0.09721\n",
      "[143]\tvalidation_0-logloss:0.09723\n",
      "[144]\tvalidation_0-logloss:0.09644\n",
      "[145]\tvalidation_0-logloss:0.09731\n",
      "[146]\tvalidation_0-logloss:0.09682\n",
      "[147]\tvalidation_0-logloss:0.09658\n",
      "[148]\tvalidation_0-logloss:0.09731\n",
      "[149]\tvalidation_0-logloss:0.09735\n",
      "[150]\tvalidation_0-logloss:0.09702\n",
      "[151]\tvalidation_0-logloss:0.09655\n",
      "[152]\tvalidation_0-logloss:0.09661\n",
      "[153]\tvalidation_0-logloss:0.09644\n",
      "[154]\tvalidation_0-logloss:0.09662\n",
      "[155]\tvalidation_0-logloss:0.09589\n",
      "[156]\tvalidation_0-logloss:0.09594\n",
      "[157]\tvalidation_0-logloss:0.09610\n",
      "[158]\tvalidation_0-logloss:0.09771\n",
      "[159]\tvalidation_0-logloss:0.09714\n",
      "[160]\tvalidation_0-logloss:0.09685\n",
      "[161]\tvalidation_0-logloss:0.09767\n",
      "[162]\tvalidation_0-logloss:0.09749\n",
      "[163]\tvalidation_0-logloss:0.09791\n",
      "[164]\tvalidation_0-logloss:0.09808\n",
      "[165]\tvalidation_0-logloss:0.09785\n",
      "[166]\tvalidation_0-logloss:0.09800\n",
      "[167]\tvalidation_0-logloss:0.09880\n",
      "[168]\tvalidation_0-logloss:0.09932\n",
      "[169]\tvalidation_0-logloss:0.09949\n",
      "[170]\tvalidation_0-logloss:0.09925\n",
      "[171]\tvalidation_0-logloss:0.09903\n",
      "[172]\tvalidation_0-logloss:0.09996\n",
      "[173]\tvalidation_0-logloss:0.09983\n",
      "[174]\tvalidation_0-logloss:0.10000\n",
      "[175]\tvalidation_0-logloss:0.10091\n",
      "[176]\tvalidation_0-logloss:0.10080\n",
      "[177]\tvalidation_0-logloss:0.10097\n",
      "[178]\tvalidation_0-logloss:0.10186\n",
      "[179]\tvalidation_0-logloss:0.10205\n",
      "[180]\tvalidation_0-logloss:0.10223\n",
      "[181]\tvalidation_0-logloss:0.10204\n",
      "[182]\tvalidation_0-logloss:0.10206\n",
      "[183]\tvalidation_0-logloss:0.10220\n",
      "[184]\tvalidation_0-logloss:0.10157\n",
      "[185]\tvalidation_0-logloss:0.10239\n",
      "[186]\tvalidation_0-logloss:0.10201\n",
      "[187]\tvalidation_0-logloss:0.10252\n",
      "[188]\tvalidation_0-logloss:0.10251\n",
      "[189]\tvalidation_0-logloss:0.10266\n",
      "[190]\tvalidation_0-logloss:0.10228\n",
      "[191]\tvalidation_0-logloss:0.10247\n",
      "[192]\tvalidation_0-logloss:0.10249\n",
      "[193]\tvalidation_0-logloss:0.10264\n",
      "[194]\tvalidation_0-logloss:0.10334\n",
      "[195]\tvalidation_0-logloss:0.10297\n",
      "[196]\tvalidation_0-logloss:0.10366\n",
      "[197]\tvalidation_0-logloss:0.10376\n",
      "[198]\tvalidation_0-logloss:0.10445\n",
      "[199]\tvalidation_0-logloss:0.10373\n",
      "[200]\tvalidation_0-logloss:0.10439\n",
      "[201]\tvalidation_0-logloss:0.10447\n",
      "[202]\tvalidation_0-logloss:0.10455\n",
      "[203]\tvalidation_0-logloss:0.10530\n",
      "[204]\tvalidation_0-logloss:0.10478\n",
      "[205]\tvalidation_0-logloss:0.10512\n",
      "[206]\tvalidation_0-logloss:0.10486\n",
      "[207]\tvalidation_0-logloss:0.10449\n",
      "[208]\tvalidation_0-logloss:0.10426\n",
      "[209]\tvalidation_0-logloss:0.10390\n",
      "[210]\tvalidation_0-logloss:0.10441\n",
      "[211]\tvalidation_0-logloss:0.10431\n",
      "[212]\tvalidation_0-logloss:0.10430\n",
      "[213]\tvalidation_0-logloss:0.10360\n",
      "[214]\tvalidation_0-logloss:0.10387\n",
      "[215]\tvalidation_0-logloss:0.10464\n",
      "[216]\tvalidation_0-logloss:0.10436\n",
      "[217]\tvalidation_0-logloss:0.10414\n",
      "[218]\tvalidation_0-logloss:0.10491\n",
      "[219]\tvalidation_0-logloss:0.10443\n",
      "[220]\tvalidation_0-logloss:0.10456\n",
      "[221]\tvalidation_0-logloss:0.10505\n",
      "[222]\tvalidation_0-logloss:0.10495\n",
      "[223]\tvalidation_0-logloss:0.10542\n",
      "[224]\tvalidation_0-logloss:0.10575\n",
      "[225]\tvalidation_0-logloss:0.10649\n",
      "[226]\tvalidation_0-logloss:0.10588\n",
      "[227]\tvalidation_0-logloss:0.10605\n",
      "[228]\tvalidation_0-logloss:0.10599\n",
      "acc = 0.9090909090909092\n"
     ]
    }
   ],
   "source": [
    "model.fit(X_train, y_train, early_stopping_rounds=100, eval_set=[(X_valid, y_valid)])\n",
    "y_valid_pred = model.predict(X_valid)\n",
    "acc = balanced_accuracy_score(y_valid, y_valid_pred)\n",
    "print(\"acc =\", acc)"
   ]
  },
  {
   "cell_type": "markdown",
   "metadata": {},
   "source": [
    "## Test"
   ]
  },
  {
   "cell_type": "code",
   "execution_count": 9,
   "metadata": {},
   "outputs": [
    {
     "name": "stdout",
     "output_type": "stream",
     "text": [
      "[14:48:12] WARNING: ../src/learner.cc:1061: Starting in XGBoost 1.3.0, the default evaluation metric used with the objective 'binary:logistic' was changed from 'error' to 'logloss'. Explicitly set eval_metric if you'd like to restore the old behavior.\n",
      "[0 1 1 1 0 0 1 1 1 1 1 1 0 1 0 0 1 1 0 0 1 1 1 1 0 1 0 1 1 1 0 1 1 0 0 1 0\n",
      " 1 0 1 1 1]\n",
      "       Id  Predicted\n",
      "6     P71          0\n",
      "9     P16          1\n",
      "12   P114          1\n",
      "15   P170          1\n",
      "18    P98          0\n",
      "23    P69          0\n",
      "29    P92          1\n",
      "30   P132          1\n",
      "31    P81          1\n",
      "41    P73          1\n",
      "46   P143          1\n",
      "50   P175          1\n",
      "62    P56          0\n",
      "67   P139          1\n",
      "72   P152          0\n",
      "73   P203          0\n",
      "75    P75          1\n",
      "84     P9          1\n",
      "93    P24          0\n",
      "94     P4          0\n",
      "95    P32          1\n",
      "98   P120          1\n",
      "101  P138          1\n",
      "110  P172          1\n",
      "120   P57          0\n",
      "122  P195          1\n",
      "126   P68          0\n",
      "128  P133          1\n",
      "130   P14          1\n",
      "134  P119          1\n",
      "138    P7          0\n",
      "145   P49          1\n",
      "164   P93          1\n",
      "166  P178          0\n",
      "177   P58          0\n",
      "178  P108          1\n",
      "183  P197          0\n",
      "191  P196          1\n",
      "193   P86          0\n",
      "194   P18          1\n",
      "196  P188          1\n",
      "198  P148          1\n"
     ]
    }
   ],
   "source": [
    "model_full = XGBClassifier(n_estimators=20, learning_rate=LR, random_state=0)\n",
    "model_full.fit(X_tv, y_tv)\n",
    "y_test_preds = model_full.predict(X_test)\n",
    "print(y_test_preds)\n",
    "output = pd.DataFrame({'Id': ID_test,\n",
    "                       'Predicted': y_test_preds})\n",
    "output.to_csv('submission.csv', index=False)\n",
    "print(output)"
   ]
  }
 ],
 "metadata": {
  "kernelspec": {
   "display_name": "Python 3.8.5 64-bit ('MASH': conda)",
   "language": "python",
   "name": "python38564bitmashconda7a43979bf891458b9945659045d4d708"
  },
  "language_info": {
   "codemirror_mode": {
    "name": "ipython",
    "version": 3
   },
   "file_extension": ".py",
   "mimetype": "text/x-python",
   "name": "python",
   "nbconvert_exporter": "python",
   "pygments_lexer": "ipython3",
   "version": "3.8.5"
  }
 },
 "nbformat": 4,
 "nbformat_minor": 4
}
